{
 "cells": [
  {
   "cell_type": "code",
   "execution_count": null,
   "metadata": {
    "collapsed": true
   },
   "outputs": [],
   "source": [
    "import sys\n",
    "from PySide.QtCore import *\n",
    "from PySide.QtGui import *"
   ]
  },
  {
   "cell_type": "code",
   "execution_count": null,
   "metadata": {
    "collapsed": false
   },
   "outputs": [],
   "source": [
    "class Interface(QDialog):\n",
    "    \n",
    "    def __init__(self, parent=None):\n",
    "        super(Interface, self).__init__(parent)\n",
    "        # self.setup_dragonfly(server)\n",
    "        # self.checkComms()\n",
    "\n",
    "        self.version = (\"0.1\")\n",
    "        self.subj_ID  = QLineEdit(\"Type and Press\")\n",
    "        self.subj_ID.selectAll()\n",
    "        self.nextPos_VR = QPushButton(\"Next Pos.\")\n",
    "        \n",
    "        layout = QVBoxLayout()\n",
    "        layout.addWidget(self.subj_ID)\n",
    "        layout.addWidget(self.nextPos_VR)      \n",
    "        self.setLayout(layout)\n",
    "        self.setGeometry(500, 500, 550, 175)\n",
    "        \n",
    "#         self.connect(nextPos_VR, SIGNAL(\"clicked()\"), self.VR_position())\n",
    "        self.setWindowTitle(\"Synergies Serial Experiments V \" + self.version)\n",
    "        # self.setGeometry(600, 600, 250, 175)\n",
    "        \n",
    "app = QApplication(sys.argv)\n",
    "form = Interface()\n",
    "form.show()\n",
    "app.exec_()\n"
   ]
  },
  {
   "cell_type": "code",
   "execution_count": null,
   "metadata": {
    "collapsed": false
   },
   "outputs": [],
   "source": []
  },
  {
   "cell_type": "code",
   "execution_count": null,
   "metadata": {
    "collapsed": true
   },
   "outputs": [],
   "source": []
  }
 ],
 "metadata": {
  "kernelspec": {
   "display_name": "Python 2",
   "language": "python",
   "name": "python2"
  },
  "language_info": {
   "codemirror_mode": {
    "name": "ipython",
    "version": 2
   },
   "file_extension": ".py",
   "mimetype": "text/x-python",
   "name": "python",
   "nbconvert_exporter": "python",
   "pygments_lexer": "ipython2",
   "version": "2.7.11"
  }
 },
 "nbformat": 4,
 "nbformat_minor": 0
}
